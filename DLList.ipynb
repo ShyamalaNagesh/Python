{
 "cells": [
  {
   "cell_type": "markdown",
   "id": "201aadc1-1343-4743-8353-50a72ac2fa07",
   "metadata": {},
   "source": [
    "Double linked list"
   ]
  },
  {
   "cell_type": "code",
   "execution_count": 1,
   "id": "72e42299-6025-4aa8-8670-fbe14c0e16f8",
   "metadata": {},
   "outputs": [
    {
     "name": "stdout",
     "output_type": "stream",
     "text": [
      "\n",
      "1.insertNodeAtStart 2.insertNodeAtEnd 3.display 4.print in reverse 5.delete node 6.insertAtpos 7.exit\n"
     ]
    },
    {
     "name": "stdin",
     "output_type": "stream",
     "text": [
      "Enter ur choice 1\n",
      "enter element to insert 1\n"
     ]
    },
    {
     "name": "stdout",
     "output_type": "stream",
     "text": [
      "I am here\n",
      "Enter correct choice\n",
      "\n",
      "1.insertNodeAtStart 2.insertNodeAtEnd 3.display 4.print in reverse 5.delete node 6.insertAtpos 7.exit\n"
     ]
    },
    {
     "name": "stdin",
     "output_type": "stream",
     "text": [
      "Enter ur choice 2\n",
      "enter element to insert 2\n"
     ]
    },
    {
     "name": "stdout",
     "output_type": "stream",
     "text": [
      "\n",
      "1.insertNodeAtStart 2.insertNodeAtEnd 3.display 4.print in reverse 5.delete node 6.insertAtpos 7.exit\n"
     ]
    },
    {
     "name": "stdin",
     "output_type": "stream",
     "text": [
      "Enter ur choice 3\n"
     ]
    },
    {
     "name": "stdout",
     "output_type": "stream",
     "text": [
      "1\n",
      "2\n",
      "\n",
      "1.insertNodeAtStart 2.insertNodeAtEnd 3.display 4.print in reverse 5.delete node 6.insertAtpos 7.exit\n"
     ]
    },
    {
     "name": "stdin",
     "output_type": "stream",
     "text": [
      "Enter ur choice 1\n",
      "enter element to insert 23\n"
     ]
    },
    {
     "name": "stdout",
     "output_type": "stream",
     "text": [
      "Enter correct choice\n",
      "\n",
      "1.insertNodeAtStart 2.insertNodeAtEnd 3.display 4.print in reverse 5.delete node 6.insertAtpos 7.exit\n"
     ]
    },
    {
     "name": "stdin",
     "output_type": "stream",
     "text": [
      "Enter ur choice 3\n"
     ]
    },
    {
     "name": "stdout",
     "output_type": "stream",
     "text": [
      "23\n",
      "1\n",
      "2\n",
      "\n",
      "1.insertNodeAtStart 2.insertNodeAtEnd 3.display 4.print in reverse 5.delete node 6.insertAtpos 7.exit\n"
     ]
    },
    {
     "name": "stdin",
     "output_type": "stream",
     "text": [
      "Enter ur choice 5\n",
      "enter element to delete 23\n"
     ]
    },
    {
     "name": "stdout",
     "output_type": "stream",
     "text": [
      "\n",
      "1.insertNodeAtStart 2.insertNodeAtEnd 3.display 4.print in reverse 5.delete node 6.insertAtpos 7.exit\n"
     ]
    },
    {
     "name": "stdin",
     "output_type": "stream",
     "text": [
      "Enter ur choice 3\n"
     ]
    },
    {
     "name": "stdout",
     "output_type": "stream",
     "text": [
      "1\n",
      "2\n",
      "\n",
      "1.insertNodeAtStart 2.insertNodeAtEnd 3.display 4.print in reverse 5.delete node 6.insertAtpos 7.exit\n"
     ]
    },
    {
     "name": "stdin",
     "output_type": "stream",
     "text": [
      "Enter ur choice 6\n",
      "Enter the position to insert: 3\n",
      "Enter the number to insert: 23\n"
     ]
    },
    {
     "name": "stdout",
     "output_type": "stream",
     "text": [
      "\n",
      "1.insertNodeAtStart 2.insertNodeAtEnd 3.display 4.print in reverse 5.delete node 6.insertAtpos 7.exit\n"
     ]
    },
    {
     "name": "stdin",
     "output_type": "stream",
     "text": [
      "Enter ur choice 3\n"
     ]
    },
    {
     "name": "stdout",
     "output_type": "stream",
     "text": [
      "1\n",
      "2\n",
      "23\n",
      "\n",
      "1.insertNodeAtStart 2.insertNodeAtEnd 3.display 4.print in reverse 5.delete node 6.insertAtpos 7.exit\n"
     ]
    },
    {
     "name": "stdin",
     "output_type": "stream",
     "text": [
      "Enter ur choice 5\n",
      "enter element to delete 23\n"
     ]
    },
    {
     "name": "stdout",
     "output_type": "stream",
     "text": [
      "1 23\n",
      "2 23\n",
      "23 23\n",
      "\n",
      "1.insertNodeAtStart 2.insertNodeAtEnd 3.display 4.print in reverse 5.delete node 6.insertAtpos 7.exit\n"
     ]
    },
    {
     "name": "stdin",
     "output_type": "stream",
     "text": [
      "Enter ur choice 3\n"
     ]
    },
    {
     "name": "stdout",
     "output_type": "stream",
     "text": [
      "1\n",
      "2\n",
      "\n",
      "1.insertNodeAtStart 2.insertNodeAtEnd 3.display 4.print in reverse 5.delete node 6.insertAtpos 7.exit\n"
     ]
    },
    {
     "name": "stdin",
     "output_type": "stream",
     "text": [
      "Enter ur choice 1\n",
      "enter element to insert 23\n"
     ]
    },
    {
     "name": "stdout",
     "output_type": "stream",
     "text": [
      "Enter correct choice\n",
      "\n",
      "1.insertNodeAtStart 2.insertNodeAtEnd 3.display 4.print in reverse 5.delete node 6.insertAtpos 7.exit\n"
     ]
    },
    {
     "name": "stdin",
     "output_type": "stream",
     "text": [
      "Enter ur choice 5\n",
      "enter element to delete 23\n"
     ]
    },
    {
     "name": "stdout",
     "output_type": "stream",
     "text": [
      "\n",
      "1.insertNodeAtStart 2.insertNodeAtEnd 3.display 4.print in reverse 5.delete node 6.insertAtpos 7.exit\n"
     ]
    },
    {
     "name": "stdin",
     "output_type": "stream",
     "text": [
      "Enter ur choice 3\n"
     ]
    },
    {
     "name": "stdout",
     "output_type": "stream",
     "text": [
      "1\n",
      "2\n",
      "\n",
      "1.insertNodeAtStart 2.insertNodeAtEnd 3.display 4.print in reverse 5.delete node 6.insertAtpos 7.exit\n"
     ]
    },
    {
     "name": "stdin",
     "output_type": "stream",
     "text": [
      "Enter ur choice 4\n"
     ]
    },
    {
     "name": "stdout",
     "output_type": "stream",
     "text": [
      "2\n",
      "1\n",
      "23\n",
      "\n",
      "1.insertNodeAtStart 2.insertNodeAtEnd 3.display 4.print in reverse 5.delete node 6.insertAtpos 7.exit\n"
     ]
    },
    {
     "name": "stdin",
     "output_type": "stream",
     "text": [
      "Enter ur choice 7\n"
     ]
    },
    {
     "name": "stdout",
     "output_type": "stream",
     "text": [
      "Enter correct choice\n"
     ]
    }
   ],
   "source": [
    "class Node:\n",
    "    def __init__(self,info):\n",
    "        self.info=info\n",
    "        self.llink=None\n",
    "        self.rlink=None\n",
    "class DLList:\n",
    "    def __init__(self):\n",
    "        self.root=None\n",
    "        \n",
    "    def printList(self):\n",
    "        if self.root == None:\n",
    "            print(\"No items in the list\")\n",
    "        else:\n",
    "            temp=self.root\n",
    "            while(temp!=None):\n",
    "                print(temp.info)\n",
    "                temp=temp.rlink\n",
    "                \n",
    "    def insertAtStart(self,info):\n",
    "        temp=self.root\n",
    "        newNode=Node(info)\n",
    "        if temp is None:\n",
    "            print(\"I am here\")\n",
    "            self.root=newNode\n",
    "        else:\n",
    "            newNode.rlink=self.root\n",
    "            self.root.llink=newNode\n",
    "            self.root=newNode\n",
    "            \n",
    "    def insertAtEnd(self,info):\n",
    "        temp=self.root\n",
    "        newNode=Node(info)\n",
    "        if temp is None:\n",
    "            self.root=newNode\n",
    "        else:\n",
    "            while(temp.rlink!=None):\n",
    "                temp=temp.rlink\n",
    "                \n",
    "            temp.rlink=newNode\n",
    "            newNode.llink=temp\n",
    "        \n",
    "    def reverseList(self):\n",
    "        temp=self.root\n",
    "        if temp is None:\n",
    "            print(\"No items\")\n",
    "        else:\n",
    "            while(temp.rlink!=None):\n",
    "                temp=temp.rlink\n",
    "            while(temp!=None):\n",
    "                    print(temp.info)\n",
    "                    temp=temp.llink\n",
    "                    \n",
    "    def deleteNode(self,info):\n",
    "        temp=self.root\n",
    "        if temp is None:\n",
    "            print(\"No items to delete\")\n",
    "        else:\n",
    "            if temp.info==info:\n",
    "                temp=temp.rlink\n",
    "                self.root=temp\n",
    "            else:\n",
    "                found=False\n",
    "                prev=temp\n",
    "                while temp!=None:\n",
    "                    print(temp.info,info)\n",
    "                    if temp.info==info:\n",
    "                        found=True\n",
    "                        break\n",
    "                    prev=temp\n",
    "                    temp=temp.rlink\n",
    "                    \n",
    "                if found==True:\n",
    "                    prev.rlink=temp.rlink\n",
    "                    temp.llink=prev.rlink\n",
    "                    \n",
    "                else:\n",
    "                    print(\"No element found\")\n",
    "                    \n",
    "    def insertAtPos(self,info,pos):\n",
    "        temp=self.root\n",
    "        if temp is None:\n",
    "            if pos > 1:\n",
    "                print(\"We cant insert the element as there are no elements\")\n",
    "            else:\n",
    "                self.root=Node(info)\n",
    "                print(f\"Successfully inserted at {pos}\")\n",
    "        else:\n",
    "            newNode=Node(info)\n",
    "            if pos==1:\n",
    "                temp=self.root\n",
    "                newNode.rlink=temp\n",
    "                self.root.llink=newNode\n",
    "                self.root=newNode\n",
    "            else:\n",
    "                pos=pos-1\n",
    "                while temp.rlink!=None and pos!=-1:\n",
    "                    if pos==1:\n",
    "                        break\n",
    "                    pos=pos-1\n",
    "                    temp=temp.rlink\n",
    "\n",
    "            newNode.rlink = temp.rlink;\n",
    "            newNode.llink=temp.llink\n",
    "            temp.rlink=newNode\n",
    "\n",
    "                \n",
    "\n",
    "if __name__=='__main__':\n",
    "    linkedlist=DLList()\n",
    "    ch=1\n",
    "    while ch!=7:\n",
    "        print('\\n1.insertNodeAtStart 2.insertNodeAtEnd 3.display 4.print in reverse 5.delete node 6.insertAtpos 7.exit')\n",
    "        ch=int(input('Enter ur choice'))\n",
    "        if ch==1:\n",
    "            num =int(input('enter element to insert'))\n",
    "            linkedlist.insertAtStart(num) \n",
    "        if ch==2:\n",
    "            num =int(input('enter element to insert'))\n",
    "            linkedlist.insertAtEnd(num) \n",
    "        elif ch==3:\n",
    "            linkedlist.printList()\n",
    "        elif ch==4:\n",
    "            linkedlist.reverseList()\n",
    "        elif ch==5:\n",
    "            num =int(input('enter element to delete'))\n",
    "            linkedlist.deleteNode(num)\n",
    "        elif ch==6:\n",
    "            pos=int(input(\"Enter the position to insert:\"))\n",
    "            num=int(input(\"Enter the number to insert:\"))\n",
    "            linkedlist.insertAtPos(num,pos)\n",
    "        elif ch==6:\n",
    "            ch=6\n",
    "            break\n",
    "        else:\n",
    "            print(\"Enter correct choice\")\n",
    "            \n",
    "            \n",
    "   \n",
    "        \n",
    "    \n",
    "        "
   ]
  }
 ],
 "metadata": {
  "kernelspec": {
   "display_name": "Python 3",
   "language": "python",
   "name": "python3"
  },
  "language_info": {
   "codemirror_mode": {
    "name": "ipython",
    "version": 3
   },
   "file_extension": ".py",
   "mimetype": "text/x-python",
   "name": "python",
   "nbconvert_exporter": "python",
   "pygments_lexer": "ipython3",
   "version": "3.7.6"
  }
 },
 "nbformat": 4,
 "nbformat_minor": 5
}
