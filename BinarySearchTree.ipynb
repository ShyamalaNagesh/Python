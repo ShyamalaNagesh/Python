{
 "cells": [
  {
   "cell_type": "markdown",
   "id": "4360e816-53a3-4747-876e-94eb3785656b",
   "metadata": {},
   "source": [
    "Binary Search Tree is a node-based binary tree data structure which has the following properties:  \n",
    "\n",
    "    The left subtree of a node contains only nodes with keys lesser than the node’s key.\n",
    "    The right subtree of a node contains only nodes with keys greater than the node’s key.\n",
    "    The left and right subtree each must also be a binary search tree. \n",
    "    There must be no duplicate nodes.\n",
    "    \n",
    "Time Complexity: The worst-case time complexity of search and insert operations is O(h) where h is the height of the Binary Search Tree. In the worst case, we may have to travel from root to the deepest leaf node. The height of a skewed tree may become n and the time complexity of search and insert operation may become O(n). "
   ]
  },
  {
   "cell_type": "code",
   "execution_count": 3,
   "id": "47d47b77-70d7-4f2d-af43-52bf6625d8c8",
   "metadata": {},
   "outputs": [
    {
     "name": "stdout",
     "output_type": "stream",
     "text": [
      "Enter your choice:1.insert 2.display 3.min node 3.Exit\n"
     ]
    },
    {
     "name": "stdin",
     "output_type": "stream",
     "text": [
      "Enter ur choice: 1\n",
      "Enter your key to insert: 10\n"
     ]
    },
    {
     "name": "stdout",
     "output_type": "stream",
     "text": [
      "Enter your choice:1.insert 2.display 3.min node 3.Exit\n"
     ]
    },
    {
     "name": "stdin",
     "output_type": "stream",
     "text": [
      "Enter ur choice: 1\n",
      "Enter your key to insert: 2\n"
     ]
    },
    {
     "name": "stdout",
     "output_type": "stream",
     "text": [
      "Enter your choice:1.insert 2.display 3.min node 3.Exit\n"
     ]
    },
    {
     "name": "stdin",
     "output_type": "stream",
     "text": [
      "Enter ur choice: 2\n"
     ]
    },
    {
     "name": "stdout",
     "output_type": "stream",
     "text": [
      "2\n",
      "10\n",
      "Enter your choice:1.insert 2.display 3.min node 3.Exit\n"
     ]
    },
    {
     "name": "stdin",
     "output_type": "stream",
     "text": [
      "Enter ur choice: 1\n",
      "Enter your key to insert: 5\n"
     ]
    },
    {
     "name": "stdout",
     "output_type": "stream",
     "text": [
      "Enter your choice:1.insert 2.display 3.min node 3.Exit\n"
     ]
    },
    {
     "name": "stdin",
     "output_type": "stream",
     "text": [
      "Enter ur choice: 2\n"
     ]
    },
    {
     "name": "stdout",
     "output_type": "stream",
     "text": [
      "2\n",
      "5\n",
      "10\n",
      "Enter your choice:1.insert 2.display 3.min node 3.Exit\n"
     ]
    },
    {
     "name": "stdin",
     "output_type": "stream",
     "text": [
      "Enter ur choice: 1\n",
      "Enter your key to insert: 1\n"
     ]
    },
    {
     "name": "stdout",
     "output_type": "stream",
     "text": [
      "Enter your choice:1.insert 2.display 3.min node 3.Exit\n"
     ]
    },
    {
     "name": "stdin",
     "output_type": "stream",
     "text": [
      "Enter ur choice: 2\n"
     ]
    },
    {
     "name": "stdout",
     "output_type": "stream",
     "text": [
      "1\n",
      "2\n",
      "5\n",
      "10\n",
      "Enter your choice:1.insert 2.display 3.min node 3.Exit\n"
     ]
    },
    {
     "name": "stdin",
     "output_type": "stream",
     "text": [
      "Enter ur choice: 3\n"
     ]
    },
    {
     "name": "stdout",
     "output_type": "stream",
     "text": [
      "The minimum value is 1\n",
      "Enter your choice:1.insert 2.display 3.min node 3.Exit\n"
     ]
    },
    {
     "name": "stdin",
     "output_type": "stream",
     "text": [
      "Enter ur choice: 4\n"
     ]
    }
   ],
   "source": [
    "'''\n",
    "The class node defines the basic structure\n",
    "  left key right\n",
    "'''\n",
    "class Node:\n",
    "    def __init__(self,key):\n",
    "        self.left=None\n",
    "        self.right=None\n",
    "        self.value=key\n",
    "        \n",
    "def insert(root,key):\n",
    "    if root is None:\n",
    "        return Node(key)\n",
    "    else:\n",
    "        if root.value==key:\n",
    "            return root\n",
    "        elif root.value<key:\n",
    "            root.right=insert(root.right,key)\n",
    "        else:\n",
    "            root.left=insert(root.left,key)\n",
    "    return root\n",
    "\n",
    "def inorder(root):\n",
    "    if root:\n",
    "        inorder(root.left)\n",
    "        print(root.value)\n",
    "        inorder(root.right)\n",
    "        \n",
    "def minimumNode(node):\n",
    "    current=node\n",
    "    while current.left is not None:\n",
    "        current=current.left\n",
    "    return current\n",
    "    \n",
    "def deleteNode(root,key):\n",
    "    print('delete node')\n",
    "        \n",
    "\n",
    "'''\n",
    "main function\n",
    "'''          \n",
    "if __name__=='__main__':\n",
    "    \n",
    "    root=None\n",
    "    while True:\n",
    "        print(\"Enter your choice:1.insert 2.display 3.min node 4.Exit\")\n",
    "        choice=int(input(\"Enter ur choice:\"))\n",
    "        if choice==1:\n",
    "            key=int(input(\"Enter your key to insert:\"))\n",
    "           #if root:\n",
    "            root=insert(root,key)\n",
    "            #else:\n",
    "               # root=Node(root)\n",
    "        elif choice==2:\n",
    "            inorder(root)\n",
    "        elif choice==3:\n",
    "            current=minimumNode(root)\n",
    "            if current is not None:\n",
    "                print(\"The minimum value is\",current.value)\n",
    "        elif choice==4:\n",
    "            break\n",
    "    "
   ]
  },
  {
   "cell_type": "code",
   "execution_count": null,
   "id": "61a6003c-cdf2-40e2-b569-4ffa528ac03b",
   "metadata": {},
   "outputs": [],
   "source": []
  }
 ],
 "metadata": {
  "kernelspec": {
   "display_name": "Python 3",
   "language": "python",
   "name": "python3"
  },
  "language_info": {
   "codemirror_mode": {
    "name": "ipython",
    "version": 3
   },
   "file_extension": ".py",
   "mimetype": "text/x-python",
   "name": "python",
   "nbconvert_exporter": "python",
   "pygments_lexer": "ipython3",
   "version": "3.7.6"
  }
 },
 "nbformat": 4,
 "nbformat_minor": 5
}
