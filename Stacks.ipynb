{
 "cells": [
  {
   "cell_type": "code",
   "execution_count": 1,
   "id": "f74deeea-b736-43a6-bd02-3b0061efeab7",
   "metadata": {},
   "outputs": [],
   "source": [
    "'''This is the code to do stack operations using numpy array\n",
    "    by Shyamala\n",
    "'''\n",
    "import numpy as np\n",
    "class StackMine:\n",
    "    def __init__(self,capacity):\n",
    "        self.capacity=capacity\n",
    "        self.top=-1\n",
    "        self.stackArray=np.zeros(capacity,'i') ##creating an empty array of capacity\n",
    "    \n",
    " \n",
    "    def isEmpty(self):\n",
    "        if self.top==-1:\n",
    "            return True\n",
    "        \n",
    "    def isFull(self):\n",
    "        if self.top==self.capacity-1:\n",
    "            return True\n",
    "    \n",
    "    def push(self,num):\n",
    "        emptyCond=self.isFull()\n",
    "        if emptyCond==True:\n",
    "            print('Stack is overflow')\n",
    "        else:\n",
    "            self.top=self.top+1\n",
    "            self.stackArray[self.top]=num\n",
    "    \n",
    "    def pop(self):\n",
    "        emptyCond=self.isEmpty()\n",
    "        if emptyCond==True:\n",
    "            print('Stack is empty')\n",
    "        else:\n",
    "            ele=self.stackArray[self.top]\n",
    "            print('Element popped out',ele)\n",
    "            self.stackArray[self.top]=0\n",
    "            self.top=self.top-1\n",
    "            print('top', self.top)\n",
    "    \n",
    "    def printStack(self):\n",
    "        emptyCond=self.isEmpty()\n",
    "        if emptyCond==True:\n",
    "            print('Stack is empty')\n",
    "        else:\n",
    "            print('elements in stack :')\n",
    "            for i in  range(self.top,-1,-1):\n",
    "                print(self.stackArray[i])"
   ]
  },
  {
   "cell_type": "markdown",
   "id": "ff3609fc-d997-46da-9bd6-9f3e6975f50d",
   "metadata": {},
   "source": [
    "Following code to execute the operations on stack\n",
    "1.push\n",
    "2.pop\n",
    "3.print\n",
    "4.exit"
   ]
  },
  {
   "cell_type": "code",
   "execution_count": 2,
   "id": "e897f4ac-0364-4336-a3fc-cde8b37ff27d",
   "metadata": {},
   "outputs": [
    {
     "name": "stdin",
     "output_type": "stream",
     "text": [
      "Enter the size of stack 3\n"
     ]
    },
    {
     "name": "stdout",
     "output_type": "stream",
     "text": [
      "1.push 2.pop 3.show 4.exit\n"
     ]
    },
    {
     "name": "stdin",
     "output_type": "stream",
     "text": [
      "Enter ur choice 1\n",
      "enter element to push 1\n"
     ]
    },
    {
     "name": "stdout",
     "output_type": "stream",
     "text": [
      "1.push 2.pop 3.show 4.exit\n"
     ]
    },
    {
     "name": "stdin",
     "output_type": "stream",
     "text": [
      "Enter ur choice 1\n",
      "enter element to push 2\n"
     ]
    },
    {
     "name": "stdout",
     "output_type": "stream",
     "text": [
      "1.push 2.pop 3.show 4.exit\n"
     ]
    },
    {
     "name": "stdin",
     "output_type": "stream",
     "text": [
      "Enter ur choice 1\n",
      "enter element to push 3\n"
     ]
    },
    {
     "name": "stdout",
     "output_type": "stream",
     "text": [
      "1.push 2.pop 3.show 4.exit\n"
     ]
    },
    {
     "name": "stdin",
     "output_type": "stream",
     "text": [
      "Enter ur choice 3\n"
     ]
    },
    {
     "name": "stdout",
     "output_type": "stream",
     "text": [
      "elements in stack :\n",
      "3\n",
      "2\n",
      "1\n",
      "1.push 2.pop 3.show 4.exit\n"
     ]
    },
    {
     "name": "stdin",
     "output_type": "stream",
     "text": [
      "Enter ur choice 2\n"
     ]
    },
    {
     "name": "stdout",
     "output_type": "stream",
     "text": [
      "Element popped out 3\n",
      "top 1\n",
      "1.push 2.pop 3.show 4.exit\n"
     ]
    },
    {
     "name": "stdin",
     "output_type": "stream",
     "text": [
      "Enter ur choice 2\n"
     ]
    },
    {
     "name": "stdout",
     "output_type": "stream",
     "text": [
      "Element popped out 2\n",
      "top 0\n",
      "1.push 2.pop 3.show 4.exit\n"
     ]
    },
    {
     "name": "stdin",
     "output_type": "stream",
     "text": [
      "Enter ur choice 3\n"
     ]
    },
    {
     "name": "stdout",
     "output_type": "stream",
     "text": [
      "elements in stack :\n",
      "1\n",
      "1.push 2.pop 3.show 4.exit\n"
     ]
    },
    {
     "name": "stdin",
     "output_type": "stream",
     "text": [
      "Enter ur choice 2\n"
     ]
    },
    {
     "name": "stdout",
     "output_type": "stream",
     "text": [
      "Element popped out 1\n",
      "top -1\n",
      "1.push 2.pop 3.show 4.exit\n"
     ]
    },
    {
     "name": "stdin",
     "output_type": "stream",
     "text": [
      "Enter ur choice 3\n"
     ]
    },
    {
     "name": "stdout",
     "output_type": "stream",
     "text": [
      "Stack is empty\n",
      "1.push 2.pop 3.show 4.exit\n"
     ]
    },
    {
     "name": "stdin",
     "output_type": "stream",
     "text": [
      "Enter ur choice 2\n"
     ]
    },
    {
     "name": "stdout",
     "output_type": "stream",
     "text": [
      "Stack is empty\n",
      "1.push 2.pop 3.show 4.exit\n"
     ]
    },
    {
     "name": "stdin",
     "output_type": "stream",
     "text": [
      "Enter ur choice 1\n",
      "enter element to push 1\n"
     ]
    },
    {
     "name": "stdout",
     "output_type": "stream",
     "text": [
      "1.push 2.pop 3.show 4.exit\n"
     ]
    },
    {
     "name": "stdin",
     "output_type": "stream",
     "text": [
      "Enter ur choice 1\n",
      "enter element to push 2\n"
     ]
    },
    {
     "name": "stdout",
     "output_type": "stream",
     "text": [
      "1.push 2.pop 3.show 4.exit\n"
     ]
    },
    {
     "name": "stdin",
     "output_type": "stream",
     "text": [
      "Enter ur choice 1\n",
      "enter element to push 3\n"
     ]
    },
    {
     "name": "stdout",
     "output_type": "stream",
     "text": [
      "1.push 2.pop 3.show 4.exit\n"
     ]
    },
    {
     "name": "stdin",
     "output_type": "stream",
     "text": [
      "Enter ur choice 1\n",
      "enter element to push 23\n"
     ]
    },
    {
     "name": "stdout",
     "output_type": "stream",
     "text": [
      "Stack is overflow\n",
      "1.push 2.pop 3.show 4.exit\n"
     ]
    },
    {
     "name": "stdin",
     "output_type": "stream",
     "text": [
      "Enter ur choice 3\n"
     ]
    },
    {
     "name": "stdout",
     "output_type": "stream",
     "text": [
      "elements in stack :\n",
      "3\n",
      "2\n",
      "1\n",
      "1.push 2.pop 3.show 4.exit\n"
     ]
    },
    {
     "name": "stdin",
     "output_type": "stream",
     "text": [
      "Enter ur choice 2\n"
     ]
    },
    {
     "name": "stdout",
     "output_type": "stream",
     "text": [
      "Element popped out 3\n",
      "top 1\n",
      "1.push 2.pop 3.show 4.exit\n"
     ]
    },
    {
     "name": "stdin",
     "output_type": "stream",
     "text": [
      "Enter ur choice 3\n"
     ]
    },
    {
     "name": "stdout",
     "output_type": "stream",
     "text": [
      "elements in stack :\n",
      "2\n",
      "1\n",
      "1.push 2.pop 3.show 4.exit\n"
     ]
    },
    {
     "name": "stdin",
     "output_type": "stream",
     "text": [
      "Enter ur choice 2\n"
     ]
    },
    {
     "name": "stdout",
     "output_type": "stream",
     "text": [
      "Element popped out 2\n",
      "top 0\n",
      "1.push 2.pop 3.show 4.exit\n"
     ]
    },
    {
     "name": "stdin",
     "output_type": "stream",
     "text": [
      "Enter ur choice 3\n"
     ]
    },
    {
     "name": "stdout",
     "output_type": "stream",
     "text": [
      "elements in stack :\n",
      "1\n",
      "1.push 2.pop 3.show 4.exit\n"
     ]
    },
    {
     "name": "stdin",
     "output_type": "stream",
     "text": [
      "Enter ur choice 2\n"
     ]
    },
    {
     "name": "stdout",
     "output_type": "stream",
     "text": [
      "Element popped out 1\n",
      "top -1\n",
      "1.push 2.pop 3.show 4.exit\n"
     ]
    },
    {
     "name": "stdin",
     "output_type": "stream",
     "text": [
      "Enter ur choice 3\n"
     ]
    },
    {
     "name": "stdout",
     "output_type": "stream",
     "text": [
      "Stack is empty\n",
      "1.push 2.pop 3.show 4.exit\n"
     ]
    },
    {
     "name": "stdin",
     "output_type": "stream",
     "text": [
      "Enter ur choice 3\n"
     ]
    },
    {
     "name": "stdout",
     "output_type": "stream",
     "text": [
      "Stack is empty\n",
      "1.push 2.pop 3.show 4.exit\n"
     ]
    },
    {
     "name": "stdin",
     "output_type": "stream",
     "text": [
      "Enter ur choice 1\n",
      "enter element to push 12\n"
     ]
    },
    {
     "name": "stdout",
     "output_type": "stream",
     "text": [
      "1.push 2.pop 3.show 4.exit\n"
     ]
    },
    {
     "name": "stdin",
     "output_type": "stream",
     "text": [
      "Enter ur choice 2\n"
     ]
    },
    {
     "name": "stdout",
     "output_type": "stream",
     "text": [
      "Element popped out 12\n",
      "top -1\n",
      "1.push 2.pop 3.show 4.exit\n"
     ]
    },
    {
     "name": "stdin",
     "output_type": "stream",
     "text": [
      "Enter ur choice 2\n"
     ]
    },
    {
     "name": "stdout",
     "output_type": "stream",
     "text": [
      "Stack is empty\n",
      "1.push 2.pop 3.show 4.exit\n"
     ]
    },
    {
     "name": "stdin",
     "output_type": "stream",
     "text": [
      "Enter ur choice 4\n"
     ]
    }
   ],
   "source": [
    "size = int(input('Enter the size of stack'))\n",
    "ex=StackMine(size)\n",
    "ch=1\n",
    "while ch!=4:\n",
    "    print('1.push 2.pop 3.show 4.exit')\n",
    "    ch=int(input('Enter ur choice'))\n",
    "    if ch==1:\n",
    "        num = input('enter element to push')\n",
    "        ex.push(num) \n",
    "    elif ch==2:\n",
    "        ex.pop()\n",
    "    elif ch==3:\n",
    "        ex.printStack()\n",
    "    elif ch==4:\n",
    "        ch=4\n",
    "        break\n",
    "    else:\n",
    "        print('Enter correct cchoice')"
   ]
  },
  {
   "cell_type": "code",
   "execution_count": null,
   "id": "8886d5a4-4532-4ba2-be5f-e3f45d34b567",
   "metadata": {},
   "outputs": [],
   "source": []
  },
  {
   "cell_type": "code",
   "execution_count": null,
   "id": "5a9e680c-b1bc-4e45-a6d9-0ffc2098d80b",
   "metadata": {},
   "outputs": [],
   "source": []
  }
 ],
 "metadata": {
  "kernelspec": {
   "display_name": "Python 3",
   "language": "python",
   "name": "python3"
  },
  "language_info": {
   "codemirror_mode": {
    "name": "ipython",
    "version": 3
   },
   "file_extension": ".py",
   "mimetype": "text/x-python",
   "name": "python",
   "nbconvert_exporter": "python",
   "pygments_lexer": "ipython3",
   "version": "3.7.6"
  }
 },
 "nbformat": 4,
 "nbformat_minor": 5
}
