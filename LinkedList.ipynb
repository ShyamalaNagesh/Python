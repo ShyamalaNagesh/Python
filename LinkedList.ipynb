{
 "cells": [
  {
   "cell_type": "code",
   "execution_count": 1,
   "id": "ee0c8285-6286-423f-9e3d-2eb7ff4305fc",
   "metadata": {},
   "outputs": [
    {
     "name": "stdout",
     "output_type": "stream",
     "text": [
      "\n",
      "1.insertNodeAtEnd 2.insertNodeAtStart 3.display 4.deleteNode 5.search 6.findLength 7.Insetatpost 8.exit\n"
     ]
    },
    {
     "name": "stdin",
     "output_type": "stream",
     "text": [
      "Enter ur choice 7\n",
      "enter element to insert 1\n",
      "enter element position to insert 1\n"
     ]
    },
    {
     "name": "stdout",
     "output_type": "stream",
     "text": [
      "Successfully inserted at 1\n",
      "\n",
      "1.insertNodeAtEnd 2.insertNodeAtStart 3.display 4.deleteNode 5.search 6.findLength 7.Insetatpost 8.exit\n"
     ]
    },
    {
     "name": "stdin",
     "output_type": "stream",
     "text": [
      "Enter ur choice 3\n"
     ]
    },
    {
     "name": "stdout",
     "output_type": "stream",
     "text": [
      "Items in the list:\n",
      " 1 :1--->\n",
      "1.insertNodeAtEnd 2.insertNodeAtStart 3.display 4.deleteNode 5.search 6.findLength 7.Insetatpost 8.exit\n"
     ]
    },
    {
     "name": "stdin",
     "output_type": "stream",
     "text": [
      "Enter ur choice 7\n",
      "enter element to insert 12\n",
      "enter element position to insert 2\n"
     ]
    },
    {
     "name": "stdout",
     "output_type": "stream",
     "text": [
      "temp None\n",
      "\n",
      "1.insertNodeAtEnd 2.insertNodeAtStart 3.display 4.deleteNode 5.search 6.findLength 7.Insetatpost 8.exit\n"
     ]
    },
    {
     "name": "stdin",
     "output_type": "stream",
     "text": [
      "Enter ur choice 7\n",
      "enter element to insert 1\n",
      "enter element position to insert 233\n"
     ]
    },
    {
     "name": "stdout",
     "output_type": "stream",
     "text": [
      "temp None\n",
      "\n",
      "1.insertNodeAtEnd 2.insertNodeAtStart 3.display 4.deleteNode 5.search 6.findLength 7.Insetatpost 8.exit\n"
     ]
    },
    {
     "name": "stdin",
     "output_type": "stream",
     "text": [
      "Enter ur choice 3\n"
     ]
    },
    {
     "name": "stdout",
     "output_type": "stream",
     "text": [
      "Items in the list:\n",
      " 1 :1---> 2 :12---> 3 :1--->\n",
      "1.insertNodeAtEnd 2.insertNodeAtStart 3.display 4.deleteNode 5.search 6.findLength 7.Insetatpost 8.exit\n"
     ]
    },
    {
     "name": "stdin",
     "output_type": "stream",
     "text": [
      "Enter ur choice 7\n",
      "enter element to insert 34\n",
      "enter element position to insert 1\n"
     ]
    },
    {
     "name": "stdout",
     "output_type": "stream",
     "text": [
      "\n",
      "1.insertNodeAtEnd 2.insertNodeAtStart 3.display 4.deleteNode 5.search 6.findLength 7.Insetatpost 8.exit\n"
     ]
    },
    {
     "name": "stdin",
     "output_type": "stream",
     "text": [
      "Enter ur choice 3\n"
     ]
    },
    {
     "name": "stdout",
     "output_type": "stream",
     "text": [
      "Items in the list:\n",
      " 1 :34---> 2 :1---> 3 :12---> 4 :1--->\n",
      "1.insertNodeAtEnd 2.insertNodeAtStart 3.display 4.deleteNode 5.search 6.findLength 7.Insetatpost 8.exit\n"
     ]
    },
    {
     "name": "stdin",
     "output_type": "stream",
     "text": [
      "Enter ur choice 7\n",
      "enter element to insert 45\n",
      "enter element position to insert 2\n"
     ]
    },
    {
     "name": "stdout",
     "output_type": "stream",
     "text": [
      "temp <__main__.Node object at 0x7f243c968990>\n",
      "\n",
      "1.insertNodeAtEnd 2.insertNodeAtStart 3.display 4.deleteNode 5.search 6.findLength 7.Insetatpost 8.exit\n"
     ]
    },
    {
     "name": "stdin",
     "output_type": "stream",
     "text": [
      "Enter ur choice 3\n"
     ]
    },
    {
     "name": "stdout",
     "output_type": "stream",
     "text": [
      "Items in the list:\n",
      " 1 :34---> 2 :45---> 3 :1---> 4 :12---> 5 :1--->\n",
      "1.insertNodeAtEnd 2.insertNodeAtStart 3.display 4.deleteNode 5.search 6.findLength 7.Insetatpost 8.exit\n"
     ]
    },
    {
     "name": "stdin",
     "output_type": "stream",
     "text": [
      "Enter ur choice 7\n",
      "enter element to insert 89\n",
      "enter element position to insert 3\n"
     ]
    },
    {
     "name": "stdout",
     "output_type": "stream",
     "text": [
      "temp <__main__.Node object at 0x7f243c968990>\n",
      "\n",
      "1.insertNodeAtEnd 2.insertNodeAtStart 3.display 4.deleteNode 5.search 6.findLength 7.Insetatpost 8.exit\n"
     ]
    },
    {
     "name": "stdin",
     "output_type": "stream",
     "text": [
      "Enter ur choice 3\n"
     ]
    },
    {
     "name": "stdout",
     "output_type": "stream",
     "text": [
      "Items in the list:\n",
      " 1 :34---> 2 :45---> 3 :89---> 4 :1---> 5 :12---> 6 :1--->\n",
      "1.insertNodeAtEnd 2.insertNodeAtStart 3.display 4.deleteNode 5.search 6.findLength 7.Insetatpost 8.exit\n"
     ]
    },
    {
     "name": "stdin",
     "output_type": "stream",
     "text": [
      "Enter ur choice 7\n",
      "enter element to insert 78\n",
      "enter element position to insert 7\n"
     ]
    },
    {
     "name": "stdout",
     "output_type": "stream",
     "text": [
      "temp None\n",
      "\n",
      "1.insertNodeAtEnd 2.insertNodeAtStart 3.display 4.deleteNode 5.search 6.findLength 7.Insetatpost 8.exit\n"
     ]
    },
    {
     "name": "stdin",
     "output_type": "stream",
     "text": [
      "Enter ur choice 3\n"
     ]
    },
    {
     "name": "stdout",
     "output_type": "stream",
     "text": [
      "Items in the list:\n",
      " 1 :34---> 2 :45---> 3 :89---> 4 :1---> 5 :12---> 6 :1---> 7 :78--->\n",
      "1.insertNodeAtEnd 2.insertNodeAtStart 3.display 4.deleteNode 5.search 6.findLength 7.Insetatpost 8.exit\n"
     ]
    },
    {
     "name": "stdin",
     "output_type": "stream",
     "text": [
      "Enter ur choice 7\n",
      "enter element to insert 22\n",
      "enter element position to insert 5\n"
     ]
    },
    {
     "name": "stdout",
     "output_type": "stream",
     "text": [
      "temp <__main__.Node object at 0x7f243c0ea050>\n",
      "\n",
      "1.insertNodeAtEnd 2.insertNodeAtStart 3.display 4.deleteNode 5.search 6.findLength 7.Insetatpost 8.exit\n"
     ]
    },
    {
     "name": "stdin",
     "output_type": "stream",
     "text": [
      "Enter ur choice 3\n"
     ]
    },
    {
     "name": "stdout",
     "output_type": "stream",
     "text": [
      "Items in the list:\n",
      " 1 :34---> 2 :45---> 3 :89---> 4 :1---> 5 :22---> 6 :12---> 7 :1---> 8 :78--->\n",
      "1.insertNodeAtEnd 2.insertNodeAtStart 3.display 4.deleteNode 5.search 6.findLength 7.Insetatpost 8.exit\n"
     ]
    },
    {
     "name": "stdin",
     "output_type": "stream",
     "text": [
      "Enter ur choice 7\n",
      "enter element to insert 12\n",
      "enter element position to insert 2\n"
     ]
    },
    {
     "name": "stdout",
     "output_type": "stream",
     "text": [
      "temp <__main__.Node object at 0x7f243c0eac90>\n",
      "\n",
      "1.insertNodeAtEnd 2.insertNodeAtStart 3.display 4.deleteNode 5.search 6.findLength 7.Insetatpost 8.exit\n"
     ]
    },
    {
     "name": "stdin",
     "output_type": "stream",
     "text": [
      "Enter ur choice 3\n"
     ]
    },
    {
     "name": "stdout",
     "output_type": "stream",
     "text": [
      "Items in the list:\n",
      " 1 :34---> 2 :12---> 3 :45---> 4 :89---> 5 :1---> 6 :22---> 7 :12---> 8 :1---> 9 :78--->\n",
      "1.insertNodeAtEnd 2.insertNodeAtStart 3.display 4.deleteNode 5.search 6.findLength 7.Insetatpost 8.exit\n"
     ]
    },
    {
     "name": "stdin",
     "output_type": "stream",
     "text": [
      "Enter ur choice 8\n"
     ]
    }
   ],
   "source": [
    "###program to implement single linked list by Shyamala Gowri V.G.\n",
    "class Node:\n",
    "    def __init__(self,info):\n",
    "        self.info=info\n",
    "        self.link=None\n",
    "        \n",
    "class LinkedList:\n",
    "    def __init__(self):\n",
    "        self.root=None\n",
    "        \n",
    "    '''\n",
    "    inserting a node in LL\n",
    "    1) check whether root is there\n",
    "        if no root make the current one as root\n",
    "        else traverse till the end then insert the node\n",
    "    '''\n",
    "    def insertNodeAtEnd(self,info):\n",
    "        node=Node(info)\n",
    "        ##check whether the root node is null\n",
    "        if self.root is None:\n",
    "            self.root=node\n",
    "        else:\n",
    "            temp=self.root\n",
    "            while temp.link!=None:\n",
    "                temp=temp.link\n",
    "            temp.link=node\n",
    "    \n",
    "    '''\n",
    "    insert node at the beginning\n",
    "    if no nodes:\n",
    "        make the current node as root\n",
    "    else:\n",
    "        make root node link point to new node\n",
    "        then make the new node as root\n",
    "    '''\n",
    "    def insertNodeAtStart(self,info):\n",
    "        node=Node(info)\n",
    "        if self.root is None:\n",
    "            self.root=node\n",
    "        else:\n",
    "            temp=self.root\n",
    "            node.link=temp\n",
    "            self.root=node\n",
    "            \n",
    "    '''\n",
    "    insert node after the node\n",
    "    if no nodes:\n",
    "        make the current node as root\n",
    "    else:\n",
    "        make root node link point to new node\n",
    "        then make the new node as root\n",
    "    '''\n",
    "    def insertNodeAfter(self,info,prev):\n",
    "        node=Node(info)\n",
    "        if self.root is None:\n",
    "            self.root=node\n",
    "        else:\n",
    "            temp=self.root\n",
    "            node.link=temp\n",
    "            self.root=node\n",
    "     \n",
    "    '''\n",
    "    display the elements of linked list\n",
    "    '''\n",
    "    def deleteNode(self,info):\n",
    "        print(\"Iam here\")\n",
    "        temp=self.root\n",
    "        if temp is None:\n",
    "            print(\"No items in the list to delete\")\n",
    "        else:\n",
    "            if temp.info==info:\n",
    "                self.root=temp.link\n",
    "                temp=None\n",
    "            else:\n",
    "                found=False\n",
    "                while temp!=None:\n",
    "                    if temp.info==info:\n",
    "                        found=True\n",
    "                        break\n",
    "                    prev=temp \n",
    "                    temp=temp.link\n",
    "                if found==True:\n",
    "                    prev.link=temp.link\n",
    "   \n",
    "    '''\n",
    "    display the elements of linked list\n",
    "    '''    \n",
    "    def printlist(self):\n",
    "        temp=self.root\n",
    "        if temp is None:\n",
    "            print(\"No items in the list\")\n",
    "        else:\n",
    "            count=1\n",
    "            print(\"Items in the list:\")\n",
    "            while temp != None:\n",
    "                print(f\" {count} :{temp.info}\",end=\"--->\")\n",
    "                temp=temp.link\n",
    "                count+=1\n",
    "                \n",
    "    '''\n",
    "    display the elements of linked list\n",
    "    '''    \n",
    "    def searchNode(self,info):\n",
    "        temp=self.root\n",
    "        if temp is None:\n",
    "            print(\"No items in the list\")\n",
    "        else:\n",
    "            count=1\n",
    "            found=False\n",
    "            while temp != None:\n",
    "                if temp.info==info:\n",
    "                    found=True\n",
    "                    print(f\"Element {info} found at {count} position\")\n",
    "                    break\n",
    "                else:\n",
    "                    temp=temp.link\n",
    "                    count=count+1\n",
    "            if found==False:\n",
    "                print(f\"Element {info} not found in the list\") \n",
    "                \n",
    "    '''\n",
    "      To find the length of the list\n",
    "    '''\n",
    "    def findLength(self):\n",
    "        temp=self.root\n",
    "        if temp==None:\n",
    "            print(\"No nodes in the list\")\n",
    "        else:\n",
    "            count=0\n",
    "            while temp!=None:\n",
    "                temp=temp.link\n",
    "                count=count+1\n",
    "            print(f\"Length / no of nodes in the list is {count}\")\n",
    "    '''\n",
    "    To insert element at specific position\n",
    "    '''\n",
    "    def insertAtpos(self,info,pos):\n",
    "        temp=self.root\n",
    "        if temp is None:\n",
    "            if pos > 1:\n",
    "                print(\"We cant insert the element as there are no elements\")\n",
    "            else:\n",
    "                self.root=Node(info)\n",
    "                print(f\"Successfully inserted at {pos}\")\n",
    "        else:\n",
    "            newNode=Node(info)\n",
    "            if pos==1:\n",
    "                newNode.link=self.root\n",
    "                self.root=newNode\n",
    "            else:\n",
    "                pos=pos-1\n",
    "                while temp.link!=None and pos!=-1:\n",
    "                    if pos==1:\n",
    "                        break\n",
    "                    pos=pos-1\n",
    "                    temp=temp.link\n",
    "            \n",
    "                newNode.link = temp.link;\n",
    "                temp.link=newNode\n",
    "            \n",
    "    \n",
    "if __name__=='__main__':\n",
    "    linkedlist=LinkedList()\n",
    "    ch=1\n",
    "    while ch!=8:\n",
    "        print('\\n1.insertNodeAtEnd 2.insertNodeAtStart 3.display 4.deleteNode 5.search 6.findLength 7.Insetatpost 8.exit')\n",
    "        ch=int(input('Enter ur choice'))\n",
    "        if ch==1:\n",
    "            num = input('enter element to insert')\n",
    "            linkedlist.insertNodeAtEnd(num) \n",
    "        elif ch==2:\n",
    "            num = input('enter element to insert')\n",
    "            linkedlist.insertNodeAtStart(num)\n",
    "        elif ch==3:\n",
    "            linkedlist.printlist()\n",
    "        elif ch==4:\n",
    "            num = input('enter element to delete')\n",
    "            linkedlist.deleteNode(num)\n",
    "        elif ch==5:\n",
    "            num = input('enter element to search')\n",
    "            linkedlist.searchNode(num)\n",
    "        elif ch==6:\n",
    "            linkedlist.findLength()\n",
    "        elif ch==7:\n",
    "            num = input('enter element to insert')\n",
    "            pos = int(input('enter element position to insert'))\n",
    "            linkedlist.insertAtpos(num,pos)\n",
    "        elif ch==8:\n",
    "            ch=8\n",
    "            break\n",
    "        else:\n",
    "            print('Enter correct cchoice')\n",
    "            \n",
    "        \n"
   ]
  },
  {
   "cell_type": "code",
   "execution_count": null,
   "id": "ba1bd9b7-5bfc-4b36-ab27-75e4ec48923e",
   "metadata": {},
   "outputs": [],
   "source": []
  }
 ],
 "metadata": {
  "kernelspec": {
   "display_name": "Python 3",
   "language": "python",
   "name": "python3"
  },
  "language_info": {
   "codemirror_mode": {
    "name": "ipython",
    "version": 3
   },
   "file_extension": ".py",
   "mimetype": "text/x-python",
   "name": "python",
   "nbconvert_exporter": "python",
   "pygments_lexer": "ipython3",
   "version": "3.7.6"
  }
 },
 "nbformat": 4,
 "nbformat_minor": 5
}
